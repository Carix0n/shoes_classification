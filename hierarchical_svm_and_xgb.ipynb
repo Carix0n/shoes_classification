{
 "cells": [
  {
   "cell_type": "markdown",
   "metadata": {},
   "source": [
    "# Загрузка и предобработка данных"
   ]
  },
  {
   "cell_type": "markdown",
   "metadata": {},
   "source": [
    "Укажем путь к папке, в которой хранятся данные и аннотации к изображениям"
   ]
  },
  {
   "cell_type": "code",
   "execution_count": 1,
   "metadata": {
    "collapsed": true
   },
   "outputs": [],
   "source": [
    "data_path = 'Webscope_I2/ydata-yshoes-image-content-v2_0'"
   ]
  },
  {
   "cell_type": "markdown",
   "metadata": {},
   "source": [
    "Загрузим файл с MATLAB-массивом средствами библиотеки scipy и сохраним аннотации в dataframe"
   ]
  },
  {
   "cell_type": "code",
   "execution_count": 2,
   "metadata": {
    "collapsed": true
   },
   "outputs": [],
   "source": [
    "import scipy.io\n",
    "import pandas as pd\n",
    "import os\n",
    "\n",
    "mat = scipy.io.loadmat(os.path.join(data_path, 'shoe_annos.mat'))\n",
    "df_data = pd.DataFrame(mat['annotations'][0])"
   ]
  },
  {
   "cell_type": "markdown",
   "metadata": {},
   "source": [
    "Посмотрим на несколько первых строк получившегося dataframe"
   ]
  },
  {
   "cell_type": "code",
   "execution_count": 3,
   "metadata": {
    "collapsed": false
   },
   "outputs": [
    {
     "data": {
      "text/html": [
       "<div>\n",
       "<table border=\"1\" class=\"dataframe\">\n",
       "  <thead>\n",
       "    <tr style=\"text-align: right;\">\n",
       "      <th></th>\n",
       "      <th>relative_im_path</th>\n",
       "      <th>bbox_x1</th>\n",
       "      <th>bbox_y1</th>\n",
       "      <th>bbox_x2</th>\n",
       "      <th>bbox_y2</th>\n",
       "      <th>class</th>\n",
       "      <th>test</th>\n",
       "    </tr>\n",
       "  </thead>\n",
       "  <tbody>\n",
       "    <tr>\n",
       "      <th>0</th>\n",
       "      <td>[classes/lowa_hiking/757550203_640.jpg]</td>\n",
       "      <td>[[143]]</td>\n",
       "      <td>[[55]]</td>\n",
       "      <td>[[501]]</td>\n",
       "      <td>[[417]]</td>\n",
       "      <td>[[1]]</td>\n",
       "      <td>[[0]]</td>\n",
       "    </tr>\n",
       "    <tr>\n",
       "      <th>1</th>\n",
       "      <td>[classes/lowa_hiking/769596630_640.jpg]</td>\n",
       "      <td>[[136]]</td>\n",
       "      <td>[[85]]</td>\n",
       "      <td>[[505]]</td>\n",
       "      <td>[[396]]</td>\n",
       "      <td>[[1]]</td>\n",
       "      <td>[[0]]</td>\n",
       "    </tr>\n",
       "    <tr>\n",
       "      <th>2</th>\n",
       "      <td>[classes/lowa_hiking/776409748_640.jpg]</td>\n",
       "      <td>[[107]]</td>\n",
       "      <td>[[91]]</td>\n",
       "      <td>[[536]]</td>\n",
       "      <td>[[392]]</td>\n",
       "      <td>[[1]]</td>\n",
       "      <td>[[0]]</td>\n",
       "    </tr>\n",
       "    <tr>\n",
       "      <th>3</th>\n",
       "      <td>[classes/lowa_hiking/854533006_640.jpg]</td>\n",
       "      <td>[[261]]</td>\n",
       "      <td>[[197]]</td>\n",
       "      <td>[[380]]</td>\n",
       "      <td>[[285]]</td>\n",
       "      <td>[[1]]</td>\n",
       "      <td>[[0]]</td>\n",
       "    </tr>\n",
       "    <tr>\n",
       "      <th>4</th>\n",
       "      <td>[classes/lowa_hiking/869234418_640.jpg]</td>\n",
       "      <td>[[241]]</td>\n",
       "      <td>[[182]]</td>\n",
       "      <td>[[400]]</td>\n",
       "      <td>[[299]]</td>\n",
       "      <td>[[1]]</td>\n",
       "      <td>[[0]]</td>\n",
       "    </tr>\n",
       "    <tr>\n",
       "      <th>5</th>\n",
       "      <td>[classes/lowa_hiking/863762462_640.jpg]</td>\n",
       "      <td>[[259]]</td>\n",
       "      <td>[[196]]</td>\n",
       "      <td>[[383]]</td>\n",
       "      <td>[[285]]</td>\n",
       "      <td>[[1]]</td>\n",
       "      <td>[[0]]</td>\n",
       "    </tr>\n",
       "  </tbody>\n",
       "</table>\n",
       "</div>"
      ],
      "text/plain": [
       "                          relative_im_path  bbox_x1  bbox_y1  bbox_x2  \\\n",
       "0  [classes/lowa_hiking/757550203_640.jpg]  [[143]]   [[55]]  [[501]]   \n",
       "1  [classes/lowa_hiking/769596630_640.jpg]  [[136]]   [[85]]  [[505]]   \n",
       "2  [classes/lowa_hiking/776409748_640.jpg]  [[107]]   [[91]]  [[536]]   \n",
       "3  [classes/lowa_hiking/854533006_640.jpg]  [[261]]  [[197]]  [[380]]   \n",
       "4  [classes/lowa_hiking/869234418_640.jpg]  [[241]]  [[182]]  [[400]]   \n",
       "5  [classes/lowa_hiking/863762462_640.jpg]  [[259]]  [[196]]  [[383]]   \n",
       "\n",
       "   bbox_y2  class   test  \n",
       "0  [[417]]  [[1]]  [[0]]  \n",
       "1  [[396]]  [[1]]  [[0]]  \n",
       "2  [[392]]  [[1]]  [[0]]  \n",
       "3  [[285]]  [[1]]  [[0]]  \n",
       "4  [[299]]  [[1]]  [[0]]  \n",
       "5  [[285]]  [[1]]  [[0]]  "
      ]
     },
     "execution_count": 3,
     "metadata": {},
     "output_type": "execute_result"
    }
   ],
   "source": [
    "df_data.loc[:5]"
   ]
  },
  {
   "cell_type": "markdown",
   "metadata": {},
   "source": [
    "Колонка 'test' не используется, поэтому сразу удалим ее"
   ]
  },
  {
   "cell_type": "code",
   "execution_count": 4,
   "metadata": {
    "collapsed": true
   },
   "outputs": [],
   "source": [
    "df_data.drop('test', axis=1, inplace=True)"
   ]
  },
  {
   "cell_type": "markdown",
   "metadata": {},
   "source": [
    "А поскольку MATLAB хранит данные в массивах, нужно извлечь из них значения в чистом виде"
   ]
  },
  {
   "cell_type": "code",
   "execution_count": 5,
   "metadata": {
    "collapsed": false
   },
   "outputs": [
    {
     "data": {
      "text/html": [
       "<div>\n",
       "<table border=\"1\" class=\"dataframe\">\n",
       "  <thead>\n",
       "    <tr style=\"text-align: right;\">\n",
       "      <th></th>\n",
       "      <th>relative_im_path</th>\n",
       "      <th>bbox_x1</th>\n",
       "      <th>bbox_y1</th>\n",
       "      <th>bbox_x2</th>\n",
       "      <th>bbox_y2</th>\n",
       "      <th>class</th>\n",
       "    </tr>\n",
       "  </thead>\n",
       "  <tbody>\n",
       "    <tr>\n",
       "      <th>0</th>\n",
       "      <td>classes/lowa_hiking/757550203_640.jpg</td>\n",
       "      <td>143</td>\n",
       "      <td>55</td>\n",
       "      <td>501</td>\n",
       "      <td>417</td>\n",
       "      <td>1</td>\n",
       "    </tr>\n",
       "    <tr>\n",
       "      <th>1</th>\n",
       "      <td>classes/lowa_hiking/769596630_640.jpg</td>\n",
       "      <td>136</td>\n",
       "      <td>85</td>\n",
       "      <td>505</td>\n",
       "      <td>396</td>\n",
       "      <td>1</td>\n",
       "    </tr>\n",
       "    <tr>\n",
       "      <th>2</th>\n",
       "      <td>classes/lowa_hiking/776409748_640.jpg</td>\n",
       "      <td>107</td>\n",
       "      <td>91</td>\n",
       "      <td>536</td>\n",
       "      <td>392</td>\n",
       "      <td>1</td>\n",
       "    </tr>\n",
       "    <tr>\n",
       "      <th>3</th>\n",
       "      <td>classes/lowa_hiking/854533006_640.jpg</td>\n",
       "      <td>261</td>\n",
       "      <td>197</td>\n",
       "      <td>380</td>\n",
       "      <td>285</td>\n",
       "      <td>1</td>\n",
       "    </tr>\n",
       "    <tr>\n",
       "      <th>4</th>\n",
       "      <td>classes/lowa_hiking/869234418_640.jpg</td>\n",
       "      <td>241</td>\n",
       "      <td>182</td>\n",
       "      <td>400</td>\n",
       "      <td>299</td>\n",
       "      <td>1</td>\n",
       "    </tr>\n",
       "    <tr>\n",
       "      <th>5</th>\n",
       "      <td>classes/lowa_hiking/863762462_640.jpg</td>\n",
       "      <td>259</td>\n",
       "      <td>196</td>\n",
       "      <td>383</td>\n",
       "      <td>285</td>\n",
       "      <td>1</td>\n",
       "    </tr>\n",
       "  </tbody>\n",
       "</table>\n",
       "</div>"
      ],
      "text/plain": [
       "                        relative_im_path  bbox_x1  bbox_y1  bbox_x2  bbox_y2  \\\n",
       "0  classes/lowa_hiking/757550203_640.jpg      143       55      501      417   \n",
       "1  classes/lowa_hiking/769596630_640.jpg      136       85      505      396   \n",
       "2  classes/lowa_hiking/776409748_640.jpg      107       91      536      392   \n",
       "3  classes/lowa_hiking/854533006_640.jpg      261      197      380      285   \n",
       "4  classes/lowa_hiking/869234418_640.jpg      241      182      400      299   \n",
       "5  classes/lowa_hiking/863762462_640.jpg      259      196      383      285   \n",
       "\n",
       "   class  \n",
       "0      1  \n",
       "1      1  \n",
       "2      1  \n",
       "3      1  \n",
       "4      1  \n",
       "5      1  "
      ]
     },
     "execution_count": 5,
     "metadata": {},
     "output_type": "execute_result"
    }
   ],
   "source": [
    "df_data = df_data.apply(lambda row: map(lambda x: x.item(), row), axis=1)\n",
    "\n",
    "df_data.loc[:5]"
   ]
  },
  {
   "cell_type": "markdown",
   "metadata": {},
   "source": [
    "Сохраним получившийся dataframe в файл с расширением .csv"
   ]
  },
  {
   "cell_type": "code",
   "execution_count": 6,
   "metadata": {
    "collapsed": true
   },
   "outputs": [],
   "source": [
    "annos_file = os.path.join(data_path, 'shoes_annos.csv')\n",
    "\n",
    "if not os.path.isfile(annos_file):\n",
    "    df_data.to_csv(annos_file, index=False)"
   ]
  },
  {
   "cell_type": "markdown",
   "metadata": {},
   "source": [
    "# Разметка суперклассов"
   ]
  },
  {
   "cell_type": "markdown",
   "metadata": {},
   "source": [
    "Поскольку изображения имеют не только класс, но и суперкласс (как это показано в статье), а именно, всего 10 суперклассов, добавим такую колонку в нашу таблицу, заполнив ее нулями."
   ]
  },
  {
   "cell_type": "code",
   "execution_count": 7,
   "metadata": {
    "collapsed": false
   },
   "outputs": [
    {
     "data": {
      "text/html": [
       "<div>\n",
       "<table border=\"1\" class=\"dataframe\">\n",
       "  <thead>\n",
       "    <tr style=\"text-align: right;\">\n",
       "      <th></th>\n",
       "      <th>relative_im_path</th>\n",
       "      <th>bbox_x1</th>\n",
       "      <th>bbox_y1</th>\n",
       "      <th>bbox_x2</th>\n",
       "      <th>bbox_y2</th>\n",
       "      <th>class</th>\n",
       "      <th>superclass</th>\n",
       "    </tr>\n",
       "  </thead>\n",
       "  <tbody>\n",
       "    <tr>\n",
       "      <th>0</th>\n",
       "      <td>classes/lowa_hiking/757550203_640.jpg</td>\n",
       "      <td>143</td>\n",
       "      <td>55</td>\n",
       "      <td>501</td>\n",
       "      <td>417</td>\n",
       "      <td>1</td>\n",
       "      <td>0</td>\n",
       "    </tr>\n",
       "    <tr>\n",
       "      <th>1</th>\n",
       "      <td>classes/lowa_hiking/769596630_640.jpg</td>\n",
       "      <td>136</td>\n",
       "      <td>85</td>\n",
       "      <td>505</td>\n",
       "      <td>396</td>\n",
       "      <td>1</td>\n",
       "      <td>0</td>\n",
       "    </tr>\n",
       "    <tr>\n",
       "      <th>2</th>\n",
       "      <td>classes/lowa_hiking/776409748_640.jpg</td>\n",
       "      <td>107</td>\n",
       "      <td>91</td>\n",
       "      <td>536</td>\n",
       "      <td>392</td>\n",
       "      <td>1</td>\n",
       "      <td>0</td>\n",
       "    </tr>\n",
       "    <tr>\n",
       "      <th>3</th>\n",
       "      <td>classes/lowa_hiking/854533006_640.jpg</td>\n",
       "      <td>261</td>\n",
       "      <td>197</td>\n",
       "      <td>380</td>\n",
       "      <td>285</td>\n",
       "      <td>1</td>\n",
       "      <td>0</td>\n",
       "    </tr>\n",
       "    <tr>\n",
       "      <th>4</th>\n",
       "      <td>classes/lowa_hiking/869234418_640.jpg</td>\n",
       "      <td>241</td>\n",
       "      <td>182</td>\n",
       "      <td>400</td>\n",
       "      <td>299</td>\n",
       "      <td>1</td>\n",
       "      <td>0</td>\n",
       "    </tr>\n",
       "    <tr>\n",
       "      <th>5</th>\n",
       "      <td>classes/lowa_hiking/863762462_640.jpg</td>\n",
       "      <td>259</td>\n",
       "      <td>196</td>\n",
       "      <td>383</td>\n",
       "      <td>285</td>\n",
       "      <td>1</td>\n",
       "      <td>0</td>\n",
       "    </tr>\n",
       "  </tbody>\n",
       "</table>\n",
       "</div>"
      ],
      "text/plain": [
       "                        relative_im_path  bbox_x1  bbox_y1  bbox_x2  bbox_y2  \\\n",
       "0  classes/lowa_hiking/757550203_640.jpg      143       55      501      417   \n",
       "1  classes/lowa_hiking/769596630_640.jpg      136       85      505      396   \n",
       "2  classes/lowa_hiking/776409748_640.jpg      107       91      536      392   \n",
       "3  classes/lowa_hiking/854533006_640.jpg      261      197      380      285   \n",
       "4  classes/lowa_hiking/869234418_640.jpg      241      182      400      299   \n",
       "5  classes/lowa_hiking/863762462_640.jpg      259      196      383      285   \n",
       "\n",
       "   class  superclass  \n",
       "0      1           0  \n",
       "1      1           0  \n",
       "2      1           0  \n",
       "3      1           0  \n",
       "4      1           0  \n",
       "5      1           0  "
      ]
     },
     "execution_count": 7,
     "metadata": {},
     "output_type": "execute_result"
    }
   ],
   "source": [
    "import numpy as np\n",
    "\n",
    "df_data.insert(df_data.shape[1], 'superclass', np.zeros(df_data.shape[0], dtype=df_data['class'].dtype))\n",
    "\n",
    "df_data.loc[:5]"
   ]
  },
  {
   "cell_type": "markdown",
   "metadata": {},
   "source": [
    "Перечислим названия всех суперклассов в списке. В статье на рис. 4 изображены только 9 из 10. Последний представитель был найден опытным путем перебором папок с классами -- это класс башмаков (clogs)"
   ]
  },
  {
   "cell_type": "code",
   "execution_count": 8,
   "metadata": {
    "collapsed": true
   },
   "outputs": [],
   "source": [
    "superclasses = ['high_heels', 'sandals', 'boots', 'boat_shoes', 'laced', 'flats', 'hiking', 'slipons', 'sneakers',\n",
    "                'clogs']"
   ]
  },
  {
   "cell_type": "markdown",
   "metadata": {},
   "source": [
    "Теперь расставим метки классов следующим образом: если название папки содержит одно из имен классов, ставим метку данного класса. Соответственно, метками будут числа от 1 до 10. Если же ни одно название класса не найдено в строке, ставим метку 0."
   ]
  },
  {
   "cell_type": "code",
   "execution_count": 9,
   "metadata": {
    "collapsed": true
   },
   "outputs": [],
   "source": [
    "for row_ind, row in df_data.iterrows():\n",
    "    \n",
    "    for sc_index, sc_name in enumerate(superclasses):\n",
    "        found_class = row['relative_im_path'].split('/')[1].find(sc_name)\n",
    "        \n",
    "        if found_class != -1:\n",
    "            found_class = sc_index\n",
    "            break\n",
    "    \n",
    "    df_data.loc[row_ind, 'superclass'] = found_class + 1"
   ]
  },
  {
   "cell_type": "markdown",
   "metadata": {},
   "source": [
    "Проверим, есть ли неразмеченные объекты"
   ]
  },
  {
   "cell_type": "code",
   "execution_count": 10,
   "metadata": {
    "collapsed": false
   },
   "outputs": [
    {
     "data": {
      "text/html": [
       "<div>\n",
       "<table border=\"1\" class=\"dataframe\">\n",
       "  <thead>\n",
       "    <tr style=\"text-align: right;\">\n",
       "      <th></th>\n",
       "      <th>relative_im_path</th>\n",
       "      <th>bbox_x1</th>\n",
       "      <th>bbox_y1</th>\n",
       "      <th>bbox_x2</th>\n",
       "      <th>bbox_y2</th>\n",
       "      <th>class</th>\n",
       "      <th>superclass</th>\n",
       "    </tr>\n",
       "  </thead>\n",
       "  <tbody>\n",
       "    <tr>\n",
       "      <th>1591</th>\n",
       "      <td>classes/reef_flip-flops/1137371400_640.jpg</td>\n",
       "      <td>241</td>\n",
       "      <td>207</td>\n",
       "      <td>400</td>\n",
       "      <td>274</td>\n",
       "      <td>32</td>\n",
       "      <td>0</td>\n",
       "    </tr>\n",
       "    <tr>\n",
       "      <th>1592</th>\n",
       "      <td>classes/reef_flip-flops/761340363_640.jpg</td>\n",
       "      <td>101</td>\n",
       "      <td>110</td>\n",
       "      <td>540</td>\n",
       "      <td>370</td>\n",
       "      <td>32</td>\n",
       "      <td>0</td>\n",
       "    </tr>\n",
       "    <tr>\n",
       "      <th>1593</th>\n",
       "      <td>classes/reef_flip-flops/917973253_640.jpg</td>\n",
       "      <td>85</td>\n",
       "      <td>127</td>\n",
       "      <td>556</td>\n",
       "      <td>354</td>\n",
       "      <td>32</td>\n",
       "      <td>0</td>\n",
       "    </tr>\n",
       "    <tr>\n",
       "      <th>1594</th>\n",
       "      <td>classes/reef_flip-flops/915226232_640.jpg</td>\n",
       "      <td>90</td>\n",
       "      <td>134</td>\n",
       "      <td>542</td>\n",
       "      <td>344</td>\n",
       "      <td>32</td>\n",
       "      <td>0</td>\n",
       "    </tr>\n",
       "    <tr>\n",
       "      <th>1595</th>\n",
       "      <td>classes/reef_flip-flops/815929123_640.jpg</td>\n",
       "      <td>101</td>\n",
       "      <td>120</td>\n",
       "      <td>540</td>\n",
       "      <td>360</td>\n",
       "      <td>32</td>\n",
       "      <td>0</td>\n",
       "    </tr>\n",
       "  </tbody>\n",
       "</table>\n",
       "</div>"
      ],
      "text/plain": [
       "                                relative_im_path  bbox_x1  bbox_y1  bbox_x2  \\\n",
       "1591  classes/reef_flip-flops/1137371400_640.jpg      241      207      400   \n",
       "1592   classes/reef_flip-flops/761340363_640.jpg      101      110      540   \n",
       "1593   classes/reef_flip-flops/917973253_640.jpg       85      127      556   \n",
       "1594   classes/reef_flip-flops/915226232_640.jpg       90      134      542   \n",
       "1595   classes/reef_flip-flops/815929123_640.jpg      101      120      540   \n",
       "\n",
       "      bbox_y2  class  superclass  \n",
       "1591      274     32           0  \n",
       "1592      370     32           0  \n",
       "1593      354     32           0  \n",
       "1594      344     32           0  \n",
       "1595      360     32           0  "
      ]
     },
     "execution_count": 10,
     "metadata": {},
     "output_type": "execute_result"
    }
   ],
   "source": [
    "not_labeled = df_data['superclass'] == 0\n",
    "\n",
    "df_data[not_labeled][:5]"
   ]
  },
  {
   "cell_type": "markdown",
   "metadata": {},
   "source": [
    "Количество неразмеченных объектов равно:"
   ]
  },
  {
   "cell_type": "code",
   "execution_count": 11,
   "metadata": {
    "collapsed": false
   },
   "outputs": [
    {
     "data": {
      "text/plain": [
       "249"
      ]
     },
     "execution_count": 11,
     "metadata": {},
     "output_type": "execute_result"
    }
   ],
   "source": [
    "df_data[not_labeled].shape[0]"
   ]
  },
  {
   "cell_type": "markdown",
   "metadata": {},
   "source": [
    "Как мы видим, таких объектов 249, предположим, что все они имеют принадлежность к папке reef_flip-flops. Поскольку в этой папке именно 249 объектов, можно быть уверенным, что все эти объекты из одной папки. Обратившись к статье, узнаем, что эта обувь относится к суперклассу плоской обуви (flats)"
   ]
  },
  {
   "cell_type": "code",
   "execution_count": 12,
   "metadata": {
    "collapsed": false
   },
   "outputs": [
    {
     "data": {
      "text/html": [
       "<div>\n",
       "<table border=\"1\" class=\"dataframe\">\n",
       "  <thead>\n",
       "    <tr style=\"text-align: right;\">\n",
       "      <th></th>\n",
       "      <th>relative_im_path</th>\n",
       "      <th>bbox_x1</th>\n",
       "      <th>bbox_y1</th>\n",
       "      <th>bbox_x2</th>\n",
       "      <th>bbox_y2</th>\n",
       "      <th>class</th>\n",
       "      <th>superclass</th>\n",
       "    </tr>\n",
       "  </thead>\n",
       "  <tbody>\n",
       "  </tbody>\n",
       "</table>\n",
       "</div>"
      ],
      "text/plain": [
       "Empty DataFrame\n",
       "Columns: [relative_im_path, bbox_x1, bbox_y1, bbox_x2, bbox_y2, class, superclass]\n",
       "Index: []"
      ]
     },
     "execution_count": 12,
     "metadata": {},
     "output_type": "execute_result"
    }
   ],
   "source": [
    "flats_index = superclasses.index('flats') + 1\n",
    "\n",
    "df_data['superclass'] = df_data['superclass'].apply(lambda row: flats_index if row == 0 else row)\n",
    "\n",
    "df_data[df_data['superclass'] == 0]"
   ]
  },
  {
   "cell_type": "markdown",
   "metadata": {},
   "source": [
    "Теперь у нас не осталось неразмеченных объектов, поэтому можно сохранить dataframe с метками суперклассов в отдельный .csv-файл"
   ]
  },
  {
   "cell_type": "code",
   "execution_count": 13,
   "metadata": {
    "collapsed": true
   },
   "outputs": [],
   "source": [
    "annos_sc_file = os.path.join(data_path, 'shoes_annos_sc.csv')\n",
    "\n",
    "if not os.path.isfile(annos_sc_file):\n",
    "    df_data.to_csv(os.path.join(data_path, annos_sc_file), index=False)"
   ]
  },
  {
   "cell_type": "markdown",
   "metadata": {},
   "source": [
    "И сохраним метки суперклассов в массиве"
   ]
  },
  {
   "cell_type": "code",
   "execution_count": 14,
   "metadata": {
    "collapsed": true
   },
   "outputs": [],
   "source": [
    "sc_labels_mapping = df_data[['class', 'superclass']] \\\n",
    "                    .drop_duplicates() \\\n",
    "                    .apply(lambda row: row['superclass'], axis=1) \\\n",
    "                    .values"
   ]
  },
  {
   "cell_type": "markdown",
   "metadata": {},
   "source": [
    "# Извлечение признаков из изображений"
   ]
  },
  {
   "cell_type": "markdown",
   "metadata": {},
   "source": [
    "В аннотации к изображениям также даны границы объектов, находящихся на изображении, убедимся в этом на примере"
   ]
  },
  {
   "cell_type": "code",
   "execution_count": 15,
   "metadata": {
    "collapsed": false
   },
   "outputs": [
    {
     "data": {
      "image/png": "[encoded data removed]",
      "text/plain": [
       "<matplotlib.figure.Figure at 0x7f9048858a10>"
      ]
     },
     "metadata": {},
     "output_type": "display_data"
    }
   ],
   "source": [
    "import cv2\n",
    "import matplotlib.pyplot as plt\n",
    "%matplotlib inline\n",
    "\n",
    "first_row = df_data.loc[0]\n",
    "\n",
    "im = cv2.imread(os.path.join(data_path, first_row['relative_im_path']))\n",
    "im = cv2.cvtColor(im, cv2.COLOR_BGR2RGB)\n",
    "im_cut = im[first_row['bbox_y1']:first_row['bbox_y2'], first_row['bbox_x1']:first_row['bbox_x2'], :]\n",
    "\n",
    "fig = plt.figure()\n",
    "\n",
    "sp = fig.add_subplot(1, 2, 1)\n",
    "sp.axes.get_xaxis().set_visible(False)\n",
    "sp.axes.get_yaxis().set_visible(False)\n",
    "sp.imshow(im)\n",
    "sp.autoscale(False)\n",
    "\n",
    "sp = fig.add_subplot(1, 2, 2)\n",
    "sp.axes.get_xaxis().set_visible(False)\n",
    "sp.axes.get_yaxis().set_visible(False)\n",
    "sp.imshow(im_cut)\n",
    "sp.autoscale(False)"
   ]
  },
  {
   "cell_type": "markdown",
   "metadata": {},
   "source": [
    "Будем считывать изображения сразу в ч/б формате, обрезать их и вычислять дескрипторы SIFT"
   ]
  },
  {
   "cell_type": "code",
   "execution_count": 16,
   "metadata": {
    "collapsed": true
   },
   "outputs": [],
   "source": [
    "def compute_sift(df_data, data_path):\n",
    "    sift = cv2.Feature2D_create('SIFT')\n",
    "    sift_descs_list = []\n",
    "\n",
    "    for _, row in df_data.iterrows():       \n",
    "        im_path = os.path.join(data_path, row['relative_im_path'])\n",
    "        im = cv2.imread(im_path, cv2.CV_LOAD_IMAGE_GRAYSCALE)\n",
    "        im_cut = im[row['bbox_y1']:row['bbox_y2'], row['bbox_x1']:row['bbox_x2']]\n",
    "        _, descs = sift.detectAndCompute(im_cut, None)\n",
    "        sift_descs_list.append(descs)\n",
    "        \n",
    "    return sift_descs_list"
   ]
  },
  {
   "cell_type": "markdown",
   "metadata": {},
   "source": [
    "Точек может оказываться слишком много, вычисления идти долго, поэтому можем пробовать брать некий процент от всех точек"
   ]
  },
  {
   "cell_type": "code",
   "execution_count": 17,
   "metadata": {
    "collapsed": true
   },
   "outputs": [],
   "source": [
    "def sample_points(descs_list, percentage, random_state=None):\n",
    "    assert random_state is not None, 'Please specify random state to use algorithm'\n",
    "    \n",
    "    state = np.random.RandomState(random_state)\n",
    "    \n",
    "    def get_sample(points):\n",
    "        n_points = points.shape[0]\n",
    "        n_points_cons = int(round(percentage * n_points))\n",
    "        indices_cons = state.permutation(n_points)[:n_points_cons]\n",
    "        \n",
    "        return points[indices_cons]\n",
    "    \n",
    "    return map(get_sample, descs_list)"
   ]
  },
  {
   "cell_type": "markdown",
   "metadata": {},
   "source": [
    "Перейдем непосредственно к нахождению особых точек и вычислению SIFT, если они еще не были вычислены"
   ]
  },
  {
   "cell_type": "code",
   "execution_count": 18,
   "metadata": {
    "collapsed": false
   },
   "outputs": [],
   "source": [
    "sift_descs_file = os.path.join(data_path, 'sift_descs.npz')\n",
    "\n",
    "if os.path.isfile(sift_descs_file):\n",
    "    descs_dict = np.load(sift_descs_file).items()\n",
    "    descs_dict_ord_by_int = map(lambda (k, v): (int(k.split('_')[1]), v), descs_dict)\n",
    "    sift_descs_list = map(lambda (_, v): v, sorted(descs_dict_ord_by_int))\n",
    "else:\n",
    "    sift_descs_list = compute_sift(df_data, data_path)\n",
    "    np.savez(sift_descs_file, *sift_descs_list)"
   ]
  },
  {
   "cell_type": "markdown",
   "metadata": {},
   "source": [
    "И возьмем подмножество этих точек"
   ]
  },
  {
   "cell_type": "code",
   "execution_count": 19,
   "metadata": {
    "collapsed": false
   },
   "outputs": [],
   "source": [
    "percentage_points = 0.8\n",
    "sift_sub_random_state = 42\n",
    "sift_descs_list = sample_points(sift_descs_list, percentage_points, random_state=sift_sub_random_state)"
   ]
  },
  {
   "cell_type": "markdown",
   "metadata": {},
   "source": [
    "Сохраним количество особых точек на каждое из изображений"
   ]
  },
  {
   "cell_type": "code",
   "execution_count": 20,
   "metadata": {
    "collapsed": true
   },
   "outputs": [],
   "source": [
    "kps_num = np.array(map(lambda x: x.shape[0], sift_descs_list))"
   ]
  },
  {
   "cell_type": "markdown",
   "metadata": {},
   "source": [
    "И посчитаем среднее, чтобы оценить, какого размера будет строиться мешок слов"
   ]
  },
  {
   "cell_type": "code",
   "execution_count": 21,
   "metadata": {
    "collapsed": false
   },
   "outputs": [
    {
     "data": {
      "text/plain": [
       "197.51163306004875"
      ]
     },
     "execution_count": 21,
     "metadata": {},
     "output_type": "execute_result"
    }
   ],
   "source": [
    "kps_num.mean()"
   ]
  },
  {
   "cell_type": "markdown",
   "metadata": {},
   "source": [
    "Проставим индексы изображений: к какой картинке относится каждая из точек"
   ]
  },
  {
   "cell_type": "code",
   "execution_count": 22,
   "metadata": {
    "collapsed": true
   },
   "outputs": [],
   "source": [
    "image_labels = np.concatenate([ind * np.ones(kps_num_per_im, dtype=int)\n",
    "                               for ind, kps_num_per_im in np.ndenumerate(kps_num)])"
   ]
  },
  {
   "cell_type": "markdown",
   "metadata": {},
   "source": [
    "А теперь сложим дескрипторы в numpy-массив для удобства оперирования"
   ]
  },
  {
   "cell_type": "code",
   "execution_count": 23,
   "metadata": {
    "collapsed": true
   },
   "outputs": [],
   "source": [
    "sift_descs = np.vstack(sift_descs_list)"
   ]
  },
  {
   "cell_type": "markdown",
   "metadata": {},
   "source": [
    "Кластеризуем особые точки"
   ]
  },
  {
   "cell_type": "code",
   "execution_count": 24,
   "metadata": {
    "collapsed": false
   },
   "outputs": [],
   "source": [
    "n_clusters = 200\n",
    "cluster_labels_file_base_name = '_'.join(['cluster_labels', 'sift', str(percentage_points),\n",
    "                                          str(sift_sub_random_state), str(n_clusters)]) + '.npy'\n",
    "cluster_labels_file = os.path.join(data_path, cluster_labels_file_base_name)\n",
    "\n",
    "if os.path.isfile(cluster_labels_file):\n",
    "    cluster_labels = np.load(cluster_labels_file)\n",
    "else:\n",
    "    from sklearn.cluster import KMeans\n",
    "\n",
    "    kmeans = KMeans(n_clusters=n_clusters, precompute_distances=True, n_init=1, n_jobs=-1)\n",
    "    cluster_labels = kmeans.fit_predict(sift_descs)\n",
    "    np.save(cluster_labels_file, cluster_labels)"
   ]
  },
  {
   "cell_type": "markdown",
   "metadata": {},
   "source": [
    "Если изображение имеет $N$ особых точек, каждая из них попадает в мешок слов с весом $\\frac{1}{N}$"
   ]
  },
  {
   "cell_type": "code",
   "execution_count": 25,
   "metadata": {
    "collapsed": true
   },
   "outputs": [],
   "source": [
    "weights = np.reciprocal(kps_num.astype(float))"
   ]
  },
  {
   "cell_type": "markdown",
   "metadata": {},
   "source": [
    "Построим мешок слов"
   ]
  },
  {
   "cell_type": "code",
   "execution_count": 26,
   "metadata": {
    "collapsed": false
   },
   "outputs": [],
   "source": [
    "bag_of_words = np.zeros((len(sift_descs_list), n_clusters), dtype=float)\n",
    "\n",
    "for point_ind, cluster_ind in np.ndenumerate(cluster_labels):\n",
    "    label = image_labels[point_ind]\n",
    "    bag_of_words[label, cluster_ind] += weights[label]"
   ]
  },
  {
   "cell_type": "markdown",
   "metadata": {},
   "source": [
    "Извлечем метки классов"
   ]
  },
  {
   "cell_type": "code",
   "execution_count": 27,
   "metadata": {
    "collapsed": true
   },
   "outputs": [],
   "source": [
    "class_labels = df_data['class'].values\n",
    "superclass_labels = df_data['superclass'].values\n",
    "sc_labels_unique = np.unique(superclass_labels)"
   ]
  },
  {
   "cell_type": "markdown",
   "metadata": {},
   "source": [
    "Посмотрим, как распределено количество объектов разных суперклассов"
   ]
  },
  {
   "cell_type": "code",
   "execution_count": 28,
   "metadata": {
    "collapsed": false
   },
   "outputs": [
    {
     "data": {
      "text/plain": [
       "2     1842\n",
       "8      727\n",
       "9      503\n",
       "1      332\n",
       "6      281\n",
       "3      270\n",
       "4      256\n",
       "10     128\n",
       "7       98\n",
       "5       76\n",
       "Name: superclass, dtype: int64"
      ]
     },
     "execution_count": 28,
     "metadata": {},
     "output_type": "execute_result"
    }
   ],
   "source": [
    "df_data['superclass'].value_counts()"
   ]
  },
  {
   "cell_type": "markdown",
   "metadata": {},
   "source": [
    "Определим вспомогательные функции взятия подмножества элементов, относящихся к определенным меткам классов"
   ]
  },
  {
   "cell_type": "code",
   "execution_count": 29,
   "metadata": {
    "collapsed": true
   },
   "outputs": [],
   "source": [
    "def get_subsample(arr, *labels):\n",
    "    return np.hstack([np.argwhere(arr == label).flatten() for label in labels])"
   ]
  },
  {
   "cell_type": "code",
   "execution_count": 30,
   "metadata": {
    "collapsed": true
   },
   "outputs": [],
   "source": [
    "def get_sc_subsample(arr, *labels):\n",
    "    arr_mapped = np.array(map(lambda label: sc_labels_mapping[label - 1], arr))\n",
    "    return get_subsample(arr_mapped, *labels)"
   ]
  },
  {
   "cell_type": "markdown",
   "metadata": {},
   "source": [
    "На основе имеющегося повторного train/test разбиения (KFold, ShuffleSplit) необходимо уметь брать подмножества элементов, относящихся к определенному суперклассу, поэтому определим вспомогательных класс для этого"
   ]
  },
  {
   "cell_type": "code",
   "execution_count": 31,
   "metadata": {
    "collapsed": false
   },
   "outputs": [],
   "source": [
    "class SplitSub(object):\n",
    "    \n",
    "    def __init__(self, arr, split, label, subsample_func):\n",
    "        self.arr = arr\n",
    "        self.split = split\n",
    "        self.label = label\n",
    "        self.subsample_func = subsample_func\n",
    "        self.classes = np.unique(arr[subsample_func(arr, label)])\n",
    "        self.iter_state = self.__iter__()\n",
    "        \n",
    "    def __iter__(self):\n",
    "        for train, test in self._iter_indices():\n",
    "            yield train, test\n",
    "        \n",
    "        return\n",
    "    \n",
    "    def next(self):\n",
    "        return self.iter_state.next()\n",
    "    \n",
    "    def _iter_indices(self):\n",
    "        for train, test in self.split:\n",
    "            yield train[self.subsample_func(self.arr[train], self.label)], \\\n",
    "                  test[self.subsample_func(self.arr[test], self.label)]\n",
    "                \n",
    "    def __len__(self):\n",
    "        return len(self.split)"
   ]
  },
  {
   "cell_type": "markdown",
   "metadata": {},
   "source": [
    "Попробуем извлекать выходы последнего слоя, не являющегося полносвязным, который хорошо зарекомендовал себя в качестве описания изображения -- это 5ый pooling слой. Для этого определим файл deploy.custom.prototxt предобученной модели так: выбросим все слои, начиная с fc6, а также последний из всех оставшихся ReLU слоев."
   ]
  },
  {
   "cell_type": "code",
   "execution_count": 32,
   "metadata": {
    "collapsed": true
   },
   "outputs": [],
   "source": [
    "import caffe\n",
    "\n",
    "def caffe_image_transformer(shape, image_mean):\n",
    "    image_mean = image_mean.transpose((1, 2, 0))\n",
    "    im_height = shape[2]\n",
    "    im_width = shape[3]\n",
    "    image_mean = caffe.io.resize_image(image_mean, (im_height, im_width)).transpose((2, 0, 1))\n",
    "    transformer = caffe.io.Transformer({'data': shape})\n",
    "    transformer.set_transpose('data', (2, 0, 1)) # передвигаем канал трех цветов во внешнюю часть -- формат caffe \n",
    "    transformer.set_mean('data', image_mean)\n",
    "\n",
    "    return transformer\n",
    "\n",
    "def compute_cnn(df_data, data_path, caffe_dir, model_name, gpu_mode=False):\n",
    "    net_dir = os.path.join(caffe_dir, 'models', model_name)\n",
    "    net_def = os.path.join(net_dir, 'deploy.custom.prototxt')\n",
    "    net_file_name = os.path.join(net_dir, model_name + '.caffemodel')\n",
    "    net = caffe.Net(net_def, net_file_name, caffe.TEST)\n",
    "    image_mean = np.load(os.path.join(caffe_dir, 'python', 'caffe', 'imagenet', 'ilsvrc_2012_mean.npy'))\n",
    "    transformer = caffe_image_transformer(net.blobs['data'].data.shape, image_mean)\n",
    "    caffe.set_mode_gpu() if gpu_mode else caffe.set_mode_cpu()\n",
    "    cnn_descs_list = []\n",
    "\n",
    "    for _, row in df_data.iterrows():       \n",
    "        im_path = os.path.join(data_path, row['relative_im_path'])\n",
    "        im = cv2.imread(im_path) # считывание изображения в BGR формате\n",
    "        im_cut = im[row['bbox_y1']:row['bbox_y2'], row['bbox_x1']:row['bbox_x2']]\n",
    "        net.blobs['data'].data[...] = transformer.preprocess('data', im)\n",
    "        net.forward()\n",
    "        cnn_features = net.blobs['pool5'].data[0]\n",
    "        cnn_descs_list.append(np.mean(cnn_features, axis=(1, 2)))\n",
    "        \n",
    "    return np.vstack(cnn_descs_list)"
   ]
  },
  {
   "cell_type": "markdown",
   "metadata": {},
   "source": [
    "И попробуем извлекать признаки из сети vgg-16"
   ]
  },
  {
   "cell_type": "code",
   "execution_count": 33,
   "metadata": {
    "collapsed": true
   },
   "outputs": [],
   "source": [
    "model_name = 'VGG_ILSVRC_16_layers'\n",
    "cnn_descs_file = os.path.join(data_path, 'cnn_descs_' + model_name + '.npy')\n",
    "\n",
    "if os.path.isfile(cnn_descs_file):\n",
    "    cnn_descs = np.load(cnn_descs_file)\n",
    "else:\n",
    "    caffe_dir = os.path.join(os.getenv('HOME'), 'libraries', 'caffe')\n",
    "    cnn_descs = compute_cnn(df_data, data_path, caffe_dir, model_name, gpu_mode=True)\n",
    "    np.save(cnn_descs_file, cnn_descs)"
   ]
  },
  {
   "cell_type": "markdown",
   "metadata": {},
   "source": [
    "# Обучение классификаторов"
   ]
  },
  {
   "cell_type": "markdown",
   "metadata": {},
   "source": [
    "Иерархическая классификация. Для классификаторов, работающих с более чем двумя классами, вручную выставим шкалу параметра регуляризации"
   ]
  },
  {
   "cell_type": "code",
   "execution_count": 34,
   "metadata": {
    "collapsed": false
   },
   "outputs": [],
   "source": [
    "from sklearn.grid_search import RandomizedSearchCV\n",
    "from sklearn.cross_validation import KFold\n",
    "from sklearn.svm import SVC\n",
    "import warnings\n",
    "\n",
    "def learn_hierarchy_clfs(img_descs):\n",
    "    warnings.filterwarnings('ignore')\n",
    "    clfs_h_num = sc_labels_unique.size + 1\n",
    "    clfs_h = map(lambda _: SVC(kernel='linear', decision_function_shape='ovo', class_weight='balanced'),\n",
    "                 xrange(clfs_h_num))\n",
    "    kfold = KFold(class_labels.size, n_folds=4, shuffle=True, random_state=42)\n",
    "    \n",
    "    par_h = map(lambda _: {'C': scipy.stats.expon(scale=25)}, xrange(clfs_h_num))\n",
    "    par_h[0] = {'C': scipy.stats.expon(scale=5000)}\n",
    "    par_h[1] = {'C': scipy.stats.expon(scale=15)}\n",
    "    par_h[2] = {'C': scipy.stats.expon(scale=10)}\n",
    "    par_h[3] = {'C': scipy.stats.expon(scale=30)}\n",
    "    par_h[8] = {'C': scipy.stats.expon(scale=100)}\n",
    "    par_h[9] = {'C': scipy.stats.expon(scale=100)}\n",
    "    \n",
    "    scoring = 'accuracy'   \n",
    "    rs_h = [RandomizedSearchCV(clfs_h[0], n_iter=12, param_distributions=par_h[0], scoring=scoring, cv=kfold,\n",
    "                               n_jobs=-1)]\n",
    "    rs_h[0].fit(img_descs, superclass_labels)\n",
    "\n",
    "    print 'Superclass labels size = {0}, score = {1}'.format(sc_labels_unique.size, rs_h[0].best_score_)\n",
    "\n",
    "    for sc_label in sc_labels_unique:\n",
    "        kfold_sub = SplitSub(class_labels, kfold, sc_label, get_sc_subsample)\n",
    "        rs_h.append(RandomizedSearchCV(clfs_h[sc_label], n_iter=12, param_distributions=par_h[sc_label],\n",
    "                                       scoring=scoring, cv=kfold_sub, n_jobs=-1))\n",
    "        rs_h[sc_label].fit(img_descs, class_labels)\n",
    "\n",
    "        print 'Class labels size = {0}, score = {1}'.format(kfold_sub.classes.size, rs_h[sc_label].best_score_)\n",
    "        \n",
    "    warnings.resetwarnings()\n",
    "    \n",
    "    return rs_h"
   ]
  },
  {
   "cell_type": "markdown",
   "metadata": {},
   "source": [
    "Результат работы на мешке слов дескрипторов SIFT"
   ]
  },
  {
   "cell_type": "code",
   "execution_count": 35,
   "metadata": {
    "collapsed": false
   },
   "outputs": [
    {
     "name": "stdout",
     "output_type": "stream",
     "text": [
      "Superclass labels size = 10, score = 0.442277863949\n",
      "Class labels size = 7, score = 0.436746987952\n",
      "Class labels size = 29, score = 0.325732899023\n",
      "Class labels size = 6, score = 0.696296296296\n",
      "Class labels size = 2, score = 0.80859375\n",
      "Class labels size = 2, score = 0.828947368421\n",
      "Class labels size = 2, score = 0.918149466192\n",
      "Class labels size = 2, score = 0.857142857143\n",
      "Class labels size = 10, score = 0.423658872077\n",
      "Class labels size = 8, score = 0.544731610338\n",
      "Class labels size = 2, score = 0.84375\n"
     ]
    }
   ],
   "source": [
    "rs_h_bow = learn_hierarchy_clfs(bag_of_words)"
   ]
  },
  {
   "cell_type": "markdown",
   "metadata": {},
   "source": [
    "Теперь то же самое, но на нейронных дескрипторах"
   ]
  },
  {
   "cell_type": "code",
   "execution_count": 36,
   "metadata": {
    "collapsed": false
   },
   "outputs": [
    {
     "name": "stdout",
     "output_type": "stream",
     "text": [
      "Superclass labels size = 10, score = 0.881010414359\n",
      "Class labels size = 7, score = 0.843373493976\n",
      "Class labels size = 29, score = 0.681324647123\n",
      "Class labels size = 6, score = 0.825925925926\n",
      "Class labels size = 2, score = 0.91015625\n",
      "Class labels size = 2, score = 0.921052631579\n",
      "Class labels size = 2, score = 0.996441281139\n",
      "Class labels size = 2, score = 0.897959183673\n",
      "Class labels size = 10, score = 0.756533700138\n",
      "Class labels size = 8, score = 0.850894632207\n",
      "Class labels size = 2, score = 0.9375\n"
     ]
    }
   ],
   "source": [
    "rs_h_cnn = learn_hierarchy_clfs(cnn_descs)"
   ]
  },
  {
   "cell_type": "markdown",
   "metadata": {},
   "source": [
    "Нейронные коды проявили себя лучше, поэтому попытаемся использовать выходы SVМ, построенные на их основе. К слову, попытки построить описание на основе выходов линейных SVM, классифицирующих мешок слов, увенчались тем, что нелинейный SVM на таких описаниях выдавал оценку качества в районе 0.3-0.4. Также были попытки построить случайный лес и градиентный бустинг на мешке слов, результаты оказывались приблизительно такими же. Возможно, для получения высоких результатов требуется увеличить в несколько раз размерность мешка, чего в моем случае не позволяют вычислительные ресурсы."
   ]
  },
  {
   "cell_type": "code",
   "execution_count": 37,
   "metadata": {
    "collapsed": false
   },
   "outputs": [],
   "source": [
    "clfs_h_best = map(lambda rs: rs.best_estimator_, rs_h_cnn)"
   ]
  },
  {
   "cell_type": "markdown",
   "metadata": {},
   "source": [
    "Конкатенация выходов decision_function 11-ти линейных SVM"
   ]
  },
  {
   "cell_type": "code",
   "execution_count": 38,
   "metadata": {
    "collapsed": true
   },
   "outputs": [],
   "source": [
    "def decision_function(clfs_h, X):\n",
    "    dec = map(lambda x: np.reshape(x, (x.size, 1)) if x.ndim == 1 else x,\n",
    "              [clf_h.decision_function(X) for clf_h in clfs_h])\n",
    "    \n",
    "    return np.hstack(dec)"
   ]
  },
  {
   "cell_type": "markdown",
   "metadata": {},
   "source": [
    "Описание изображения на основе выходов SVM по схеме KFold: тренируемся на $N-1$ блоке, на оставшемся предсказываем, так $N$ раз"
   ]
  },
  {
   "cell_type": "code",
   "execution_count": 39,
   "metadata": {
    "collapsed": true
   },
   "outputs": [],
   "source": [
    "def kfold_decision(clfs_h, X, superclass_labels, class_labels, kfold):\n",
    "    test_indices = []\n",
    "    dec = []\n",
    "    \n",
    "    for train, test in kfold:\n",
    "        test_indices.append(test)\n",
    "        clfs_h[0].fit(X[train], superclass_labels[train])\n",
    "        \n",
    "        for sc_label in sc_labels_unique:\n",
    "            train_sub = train[get_sc_subsample(class_labels[train], sc_label)]\n",
    "            clfs_h[sc_label].fit(X[train_sub], class_labels[train_sub])\n",
    "            \n",
    "        dec.append(decision_function(clfs_h, X[test]))\n",
    "        \n",
    "    inv_indices = np.argsort(np.concatenate(test_indices), kind='mergesort')\n",
    "    \n",
    "    return np.vstack(dec)[inv_indices]"
   ]
  },
  {
   "cell_type": "markdown",
   "metadata": {},
   "source": [
    "Вычислим описания нейронные коды -> выходы SVM"
   ]
  },
  {
   "cell_type": "code",
   "execution_count": 40,
   "metadata": {
    "collapsed": false
   },
   "outputs": [],
   "source": [
    "dec_cnn = kfold_decision(clfs_h_best, cnn_descs, superclass_labels, class_labels,\n",
    "                         KFold(class_labels.size, n_folds=10, shuffle=True, random_state=42))"
   ]
  },
  {
   "cell_type": "markdown",
   "metadata": {},
   "source": [
    "Определим 5-итерационное разбиение на train/test части"
   ]
  },
  {
   "cell_type": "code",
   "execution_count": 41,
   "metadata": {
    "collapsed": true
   },
   "outputs": [],
   "source": [
    "from sklearn.cross_validation import ShuffleSplit\n",
    "\n",
    "split = ShuffleSplit(class_labels.size, n_iter=5, test_size=0.1, random_state=42)"
   ]
  },
  {
   "cell_type": "markdown",
   "metadata": {},
   "source": [
    "И попробуем применять эти выходы в качестве признаков для нелинейного SVM. Предварительные запуски дали понять, что ядро RBF показывает себя не очень здорово, поэтому при подборе параметров будем пробовать только полиномиальные пространство признаков"
   ]
  },
  {
   "cell_type": "code",
   "execution_count": 42,
   "metadata": {
    "collapsed": false
   },
   "outputs": [
    {
     "name": "stdout",
     "output_type": "stream",
     "text": [
      "0.668584070796\n"
     ]
    }
   ],
   "source": [
    "from sklearn.grid_search import GridSearchCV\n",
    "\n",
    "svc = SVC(decision_function_shape='ovr')\n",
    "par_svc = {'kernel': ['poly'],\n",
    "           'degree': np.arange(2, 5),\n",
    "           'C': np.array([0.01, 0.03, 0.1, 0.3, 1, 3, 10, 30]),\n",
    "           'gamma': np.array([0.1, 0.5, 1, 5]),\n",
    "           'class_weight': [None, 'balanced']}\n",
    "gs_svc = GridSearchCV(svc, par_svc, scoring='accuracy', cv=split, n_jobs=-1)\n",
    "gs_svc.fit(dec_cnn, class_labels)\n",
    "\n",
    "print gs_svc.best_score_"
   ]
  },
  {
   "cell_type": "markdown",
   "metadata": {},
   "source": [
    "Получилась достойная модель, которая превосходит результат статьи на 2.2%"
   ]
  },
  {
   "cell_type": "code",
   "execution_count": 43,
   "metadata": {
    "collapsed": false
   },
   "outputs": [
    {
     "name": "stdout",
     "output_type": "stream",
     "text": [
      "Оценки на shuffle-split: [ 0.66814159  0.63938053  0.68362832  0.67920354  0.67256637]\n",
      "Сведения: mean: 0.66858, std: 0.01554, params: {'kernel': 'poly', 'C': 0.01, 'gamma': 0.5, 'degree': 2, 'class_weight': None}\n"
     ]
    }
   ],
   "source": [
    "best_ind_svc = np.argmax(np.array(map(lambda score: tuple(score)[1], gs_svc.grid_scores_)))\n",
    "print 'Оценки на shuffle-split: {0}\\nСведения: {1}'.format(gs_svc.grid_scores_[best_ind_svc].cv_validation_scores,\n",
    "                                                           gs_svc.grid_scores_[best_ind_svc])"
   ]
  },
  {
   "cell_type": "markdown",
   "metadata": {},
   "source": [
    "А теперь попробуем построить модель на основе градиентного бустинга. Для начала понизим размерность признакового описания, чтобы повысить эффективность построения деревьев. Градиентный бустинг зарекомендовал себя, поскольку показывает высокое качество, при этом имеет свойство не переобучаться при увеличении количества используемых в нем классификаторов даже до нескольких тысяч."
   ]
  },
  {
   "cell_type": "code",
   "execution_count": 44,
   "metadata": {
    "collapsed": false
   },
   "outputs": [
    {
     "name": "stdout",
     "output_type": "stream",
     "text": [
      "# компонент = 91, доля объясненной дисперсии = 0.950544416904\n"
     ]
    }
   ],
   "source": [
    "from sklearn.decomposition import PCA\n",
    "\n",
    "pca = PCA(n_components=0.95, whiten=True)\n",
    "cnn_descs_pca = pca.fit_transform(cnn_descs)\n",
    "\n",
    "print '# компонент = {0}, доля объясненной дисперсии = {1}'.format(pca.n_components_,\n",
    "                                                                   pca.explained_variance_ratio_.sum())"
   ]
  },
  {
   "cell_type": "code",
   "execution_count": 45,
   "metadata": {
    "collapsed": false
   },
   "outputs": [
    {
     "name": "stdout",
     "output_type": "stream",
     "text": [
      "0.693805309735\n"
     ]
    }
   ],
   "source": [
    "from xgboost import XGBClassifier\n",
    "\n",
    "xgb = XGBClassifier(n_estimators=500, subsample=0.8, colsample_bytree=0.5)\n",
    "par_xgb = {'max_depth': np.arange(4, 7),\n",
    "           'min_child_weight': np.arange(1, 4)}\n",
    "gs_xgb = GridSearchCV(xgb, par_xgb, scoring='accuracy', cv=split)\n",
    "gs_xgb.fit(cnn_descs_pca, class_labels)\n",
    "\n",
    "print gs_xgb.best_score_"
   ]
  },
  {
   "cell_type": "code",
   "execution_count": 46,
   "metadata": {
    "collapsed": false
   },
   "outputs": [
    {
     "name": "stdout",
     "output_type": "stream",
     "text": [
      "Оценки на shuffle-split: [ 0.71017699  0.68584071  0.69026549  0.6880531   0.69469027]\n",
      "Сведения: mean: 0.69381, std: 0.00869, params: {'max_depth': 4, 'min_child_weight': 1}\n"
     ]
    }
   ],
   "source": [
    "best_ind_xgb = np.argmax(np.array(map(lambda score: tuple(score)[1], gs_xgb.grid_scores_)))\n",
    "print 'Оценки на shuffle-split: {0}\\nСведения: {1}'.format(gs_xgb.grid_scores_[best_ind_xgb].cv_validation_scores,\n",
    "                                                           gs_xgb.grid_scores_[best_ind_xgb])"
   ]
  },
  {
   "cell_type": "markdown",
   "metadata": {},
   "source": [
    "Полученный алгоритм превосходит тот, что предложен в статье, на 4.7%"
   ]
  }
 ],
 "metadata": {
  "kernelspec": {
   "display_name": "Python 2",
   "language": "python",
   "name": "python2"
  },
  "language_info": {
   "codemirror_mode": {
    "name": "ipython",
    "version": 2
   },
   "file_extension": ".py",
   "mimetype": "text/x-python",
   "name": "python",
   "nbconvert_exporter": "python",
   "pygments_lexer": "ipython2",
   "version": "2.7.12"
  }
 },
 "nbformat": 4,
 "nbformat_minor": 0
}
